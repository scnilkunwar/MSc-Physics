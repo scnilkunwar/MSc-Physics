{
 "cells": [
  {
   "cell_type": "code",
   "execution_count": 3,
   "id": "67b42935-93e9-44da-a654-0cacf387016a",
   "metadata": {},
   "outputs": [
    {
     "data": {
      "text/plain": [
       "'Orthonormal Polynomial φ_0(x) ='"
      ]
     },
     "metadata": {},
     "output_type": "display_data"
    },
    {
     "data": {
      "text/latex": [
       "$\\displaystyle \\frac{\\sqrt{2}}{2}$"
      ],
      "text/plain": [
       "sqrt(2)/2"
      ]
     },
     "metadata": {},
     "output_type": "display_data"
    },
    {
     "data": {
      "text/plain": [
       "'Orthonormal Polynomial φ_1(x) ='"
      ]
     },
     "metadata": {},
     "output_type": "display_data"
    },
    {
     "data": {
      "text/latex": [
       "$\\displaystyle \\frac{\\sqrt{6} x}{2}$"
      ],
      "text/plain": [
       "sqrt(6)*x/2"
      ]
     },
     "metadata": {},
     "output_type": "display_data"
    },
    {
     "data": {
      "text/plain": [
       "'Orthonormal Polynomial φ_2(x) ='"
      ]
     },
     "metadata": {},
     "output_type": "display_data"
    },
    {
     "data": {
      "text/latex": [
       "$\\displaystyle \\frac{\\sqrt{10} \\cdot \\left(3 x^{2} - 2\\right)}{6}$"
      ],
      "text/plain": [
       "sqrt(10)*(3*x**2 - 2)/6"
      ]
     },
     "metadata": {},
     "output_type": "display_data"
    }
   ],
   "source": [
    "import sympy as sp\n",
    "\n",
    "def gram_schmidt(polys, inner_prod):\n",
    "    ortho_polys = []\n",
    "    ortho_norm_polys = []\n",
    "    \n",
    "    for p in polys:\n",
    "        # Orthogonalize p against all previously computed orthogonal polynomials\n",
    "        for q in ortho_polys:\n",
    "            p -= inner_prod(q, p) * q\n",
    "        \n",
    "        # Normalize the orthogonal polynomial\n",
    "        norm = sp.sqrt(inner_prod(p, p))\n",
    "        ortho_polys.append(p)\n",
    "        ortho_norm_polys.append(p / norm)\n",
    "    \n",
    "    return ortho_norm_polys\n",
    "\n",
    "# Define the variable and the polynomials\n",
    "x = sp.symbols('x')\n",
    "polys = [x**i for i in range(3)]  # Generate polynomials 1, x, x^2, x^3, x^4\n",
    "\n",
    "# Define the inner product over the interval [-1, 1]\n",
    "def inner_prod(f, g):\n",
    "    return sp.integrate(f * g, (x, -1, 1))\n",
    "\n",
    "# Apply Gram-Schmidt process\n",
    "ortho_norm_polys = gram_schmidt(polys, inner_prod)\n",
    "\n",
    "# Display the orthonormal polynomials\n",
    "for i, p in enumerate(ortho_norm_polys):\n",
    "    display(f\"Orthonormal Polynomial φ_{i}(x) =\", p.simplify())\n"
   ]
  },
  {
   "cell_type": "code",
   "execution_count": 16,
   "id": "0aa04a4d-8e44-447c-84b7-da0e7b1326de",
   "metadata": {},
   "outputs": [
    {
     "data": {
      "text/latex": [
       "$\\displaystyle \\left[\\begin{matrix}\\frac{\\sqrt{6}}{6}\\\\\\frac{\\sqrt{6}}{6}\\\\- \\frac{\\sqrt{6}}{3}\\end{matrix}\\right]$"
      ],
      "text/plain": [
       "Matrix([\n",
       "[ sqrt(6)/6],\n",
       "[ sqrt(6)/6],\n",
       "[-sqrt(6)/3]])"
      ]
     },
     "execution_count": 16,
     "metadata": {},
     "output_type": "execute_result"
    }
   ],
   "source": [
    "import sympy as sp\n",
    "\n",
    "# Define the basis vectors\n",
    "e1, e2, e3 = sp.symbols('e1 e2 e3')\n",
    "a1 = sp.Matrix([1, 1, -2])\n",
    "a2 = sp.Matrix([1, 2, -3])\n",
    "\n",
    "# Define the inner product (dot product for vectors)\n",
    "def inner_prod(u, v):\n",
    "    return u.dot(v)\n",
    "\n",
    "# Step 1: Normalize a1 to get u1\n",
    "norm_a1 = sp.sqrt(inner_prod(a1, a1))\n",
    "u1 = a1 / norm_a1\n",
    "\n",
    "# Step 2: Orthogonalize a2 against u1\n",
    "proj_a2_u1 = inner_prod(u1, a2) * u1\n",
    "b2 = a2 - proj_a2_u1\n",
    "\n",
    "# Step 3: Normalize b2 to get u2\n",
    "norm_b2 = sp.sqrt(inner_prod(b2, b2))\n",
    "u2 = b2 / norm_b2\n",
    "\n",
    "# Display the orthonormal vectors u1 and u2\n",
    "sp.factor(u1)"
   ]
  },
  {
   "cell_type": "code",
   "execution_count": null,
   "id": "70292ab1-589b-47ae-85d4-379be7c4d683",
   "metadata": {},
   "outputs": [],
   "source": []
  }
 ],
 "metadata": {
  "kernelspec": {
   "display_name": "Python 3 (ipykernel)",
   "language": "python",
   "name": "python3"
  },
  "language_info": {
   "codemirror_mode": {
    "name": "ipython",
    "version": 3
   },
   "file_extension": ".py",
   "mimetype": "text/x-python",
   "name": "python",
   "nbconvert_exporter": "python",
   "pygments_lexer": "ipython3",
   "version": "3.12.3"
  }
 },
 "nbformat": 4,
 "nbformat_minor": 5
}
